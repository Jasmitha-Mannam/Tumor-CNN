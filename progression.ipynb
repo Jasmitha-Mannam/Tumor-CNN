{
 "cells": [
  {
   "cell_type": "code",
   "execution_count": 1,
   "id": "c36b5043-3555-40fa-b875-6ea0e8bd2fd1",
   "metadata": {},
   "outputs": [
    {
     "name": "stdout",
     "output_type": "stream",
     "text": [
      "Requirement already satisfied: nibabel in c:\\users\\jasmi\\anaconda3\\lib\\site-packages (5.3.2)\n",
      "Requirement already satisfied: importlib-resources>=5.12 in c:\\users\\jasmi\\anaconda3\\lib\\site-packages (from nibabel) (6.5.2)\n",
      "Requirement already satisfied: numpy>=1.22 in c:\\users\\jasmi\\anaconda3\\lib\\site-packages (from nibabel) (1.26.4)\n",
      "Requirement already satisfied: packaging>=20 in c:\\users\\jasmi\\anaconda3\\lib\\site-packages (from nibabel) (23.1)\n",
      "Requirement already satisfied: typing-extensions>=4.6 in c:\\users\\jasmi\\anaconda3\\lib\\site-packages (from nibabel) (4.12.2)\n"
     ]
    }
   ],
   "source": [
    "!pip install nibabel"
   ]
  },
  {
   "cell_type": "code",
   "execution_count": 14,
   "id": "047e245a-e092-4941-9116-5da01a116e69",
   "metadata": {},
   "outputs": [
    {
     "data": {
      "text/html": [
       "<pre style=\"white-space:pre;overflow-x:auto;line-height:normal;font-family:Menlo,'DejaVu Sans Mono',consolas,'Courier New',monospace\"><span style=\"font-weight: bold\">Model: \"functional_1\"</span>\n",
       "</pre>\n"
      ],
      "text/plain": [
       "\u001b[1mModel: \"functional_1\"\u001b[0m\n"
      ]
     },
     "metadata": {},
     "output_type": "display_data"
    },
    {
     "data": {
      "text/html": [
       "<pre style=\"white-space:pre;overflow-x:auto;line-height:normal;font-family:Menlo,'DejaVu Sans Mono',consolas,'Courier New',monospace\">┏━━━━━━━━━━━━━━━━━━━━━┳━━━━━━━━━━━━━━━━━━━┳━━━━━━━━━━━━┳━━━━━━━━━━━━━━━━━━━┓\n",
       "┃<span style=\"font-weight: bold\"> Layer (type)        </span>┃<span style=\"font-weight: bold\"> Output Shape      </span>┃<span style=\"font-weight: bold\">    Param # </span>┃<span style=\"font-weight: bold\"> Connected to      </span>┃\n",
       "┡━━━━━━━━━━━━━━━━━━━━━╇━━━━━━━━━━━━━━━━━━━╇━━━━━━━━━━━━╇━━━━━━━━━━━━━━━━━━━┩\n",
       "│ mri_input           │ (<span style=\"color: #00d7ff; text-decoration-color: #00d7ff\">None</span>, <span style=\"color: #00af00; text-decoration-color: #00af00\">4</span>, <span style=\"color: #00af00; text-decoration-color: #00af00\">32</span>, <span style=\"color: #00af00; text-decoration-color: #00af00\">64</span>, │          <span style=\"color: #00af00; text-decoration-color: #00af00\">0</span> │ -                 │\n",
       "│ (<span style=\"color: #0087ff; text-decoration-color: #0087ff\">InputLayer</span>)        │ <span style=\"color: #00af00; text-decoration-color: #00af00\">64</span>)               │            │                   │\n",
       "├─────────────────────┼───────────────────┼────────────┼───────────────────┤\n",
       "│ permute (<span style=\"color: #0087ff; text-decoration-color: #0087ff\">Permute</span>)   │ (<span style=\"color: #00d7ff; text-decoration-color: #00d7ff\">None</span>, <span style=\"color: #00af00; text-decoration-color: #00af00\">32</span>, <span style=\"color: #00af00; text-decoration-color: #00af00\">64</span>,    │          <span style=\"color: #00af00; text-decoration-color: #00af00\">0</span> │ mri_input[<span style=\"color: #00af00; text-decoration-color: #00af00\">0</span>][<span style=\"color: #00af00; text-decoration-color: #00af00\">0</span>]   │\n",
       "│                     │ <span style=\"color: #00af00; text-decoration-color: #00af00\">64</span>, <span style=\"color: #00af00; text-decoration-color: #00af00\">4</span>)            │            │                   │\n",
       "├─────────────────────┼───────────────────┼────────────┼───────────────────┤\n",
       "│ conv3d_2 (<span style=\"color: #0087ff; text-decoration-color: #0087ff\">Conv3D</span>)   │ (<span style=\"color: #00d7ff; text-decoration-color: #00d7ff\">None</span>, <span style=\"color: #00af00; text-decoration-color: #00af00\">32</span>, <span style=\"color: #00af00; text-decoration-color: #00af00\">64</span>,    │      <span style=\"color: #00af00; text-decoration-color: #00af00\">3,488</span> │ permute[<span style=\"color: #00af00; text-decoration-color: #00af00\">0</span>][<span style=\"color: #00af00; text-decoration-color: #00af00\">0</span>]     │\n",
       "│                     │ <span style=\"color: #00af00; text-decoration-color: #00af00\">64</span>, <span style=\"color: #00af00; text-decoration-color: #00af00\">32</span>)           │            │                   │\n",
       "├─────────────────────┼───────────────────┼────────────┼───────────────────┤\n",
       "│ max_pooling3d_2     │ (<span style=\"color: #00d7ff; text-decoration-color: #00d7ff\">None</span>, <span style=\"color: #00af00; text-decoration-color: #00af00\">16</span>, <span style=\"color: #00af00; text-decoration-color: #00af00\">32</span>,    │          <span style=\"color: #00af00; text-decoration-color: #00af00\">0</span> │ conv3d_2[<span style=\"color: #00af00; text-decoration-color: #00af00\">0</span>][<span style=\"color: #00af00; text-decoration-color: #00af00\">0</span>]    │\n",
       "│ (<span style=\"color: #0087ff; text-decoration-color: #0087ff\">MaxPooling3D</span>)      │ <span style=\"color: #00af00; text-decoration-color: #00af00\">32</span>, <span style=\"color: #00af00; text-decoration-color: #00af00\">32</span>)           │            │                   │\n",
       "├─────────────────────┼───────────────────┼────────────┼───────────────────┤\n",
       "│ conv3d_3 (<span style=\"color: #0087ff; text-decoration-color: #0087ff\">Conv3D</span>)   │ (<span style=\"color: #00d7ff; text-decoration-color: #00d7ff\">None</span>, <span style=\"color: #00af00; text-decoration-color: #00af00\">16</span>, <span style=\"color: #00af00; text-decoration-color: #00af00\">32</span>,    │     <span style=\"color: #00af00; text-decoration-color: #00af00\">55,360</span> │ max_pooling3d_2[<span style=\"color: #00af00; text-decoration-color: #00af00\">…</span> │\n",
       "│                     │ <span style=\"color: #00af00; text-decoration-color: #00af00\">32</span>, <span style=\"color: #00af00; text-decoration-color: #00af00\">64</span>)           │            │                   │\n",
       "├─────────────────────┼───────────────────┼────────────┼───────────────────┤\n",
       "│ max_pooling3d_3     │ (<span style=\"color: #00d7ff; text-decoration-color: #00d7ff\">None</span>, <span style=\"color: #00af00; text-decoration-color: #00af00\">8</span>, <span style=\"color: #00af00; text-decoration-color: #00af00\">16</span>, <span style=\"color: #00af00; text-decoration-color: #00af00\">16</span>, │          <span style=\"color: #00af00; text-decoration-color: #00af00\">0</span> │ conv3d_3[<span style=\"color: #00af00; text-decoration-color: #00af00\">0</span>][<span style=\"color: #00af00; text-decoration-color: #00af00\">0</span>]    │\n",
       "│ (<span style=\"color: #0087ff; text-decoration-color: #0087ff\">MaxPooling3D</span>)      │ <span style=\"color: #00af00; text-decoration-color: #00af00\">64</span>)               │            │                   │\n",
       "├─────────────────────┼───────────────────┼────────────┼───────────────────┤\n",
       "│ flatten_1 (<span style=\"color: #0087ff; text-decoration-color: #0087ff\">Flatten</span>) │ (<span style=\"color: #00d7ff; text-decoration-color: #00d7ff\">None</span>, <span style=\"color: #00af00; text-decoration-color: #00af00\">131072</span>)    │          <span style=\"color: #00af00; text-decoration-color: #00af00\">0</span> │ max_pooling3d_3[<span style=\"color: #00af00; text-decoration-color: #00af00\">…</span> │\n",
       "├─────────────────────┼───────────────────┼────────────┼───────────────────┤\n",
       "│ gene_input          │ (<span style=\"color: #00d7ff; text-decoration-color: #00d7ff\">None</span>, <span style=\"color: #00af00; text-decoration-color: #00af00\">300</span>)       │          <span style=\"color: #00af00; text-decoration-color: #00af00\">0</span> │ -                 │\n",
       "│ (<span style=\"color: #0087ff; text-decoration-color: #0087ff\">InputLayer</span>)        │                   │            │                   │\n",
       "├─────────────────────┼───────────────────┼────────────┼───────────────────┤\n",
       "│ dense_4 (<span style=\"color: #0087ff; text-decoration-color: #0087ff\">Dense</span>)     │ (<span style=\"color: #00d7ff; text-decoration-color: #00d7ff\">None</span>, <span style=\"color: #00af00; text-decoration-color: #00af00\">128</span>)       │ <span style=\"color: #00af00; text-decoration-color: #00af00\">16,777,344</span> │ flatten_1[<span style=\"color: #00af00; text-decoration-color: #00af00\">0</span>][<span style=\"color: #00af00; text-decoration-color: #00af00\">0</span>]   │\n",
       "├─────────────────────┼───────────────────┼────────────┼───────────────────┤\n",
       "│ dense_5 (<span style=\"color: #0087ff; text-decoration-color: #0087ff\">Dense</span>)     │ (<span style=\"color: #00d7ff; text-decoration-color: #00d7ff\">None</span>, <span style=\"color: #00af00; text-decoration-color: #00af00\">128</span>)       │     <span style=\"color: #00af00; text-decoration-color: #00af00\">38,528</span> │ gene_input[<span style=\"color: #00af00; text-decoration-color: #00af00\">0</span>][<span style=\"color: #00af00; text-decoration-color: #00af00\">0</span>]  │\n",
       "├─────────────────────┼───────────────────┼────────────┼───────────────────┤\n",
       "│ concatenate_1       │ (<span style=\"color: #00d7ff; text-decoration-color: #00d7ff\">None</span>, <span style=\"color: #00af00; text-decoration-color: #00af00\">256</span>)       │          <span style=\"color: #00af00; text-decoration-color: #00af00\">0</span> │ dense_4[<span style=\"color: #00af00; text-decoration-color: #00af00\">0</span>][<span style=\"color: #00af00; text-decoration-color: #00af00\">0</span>],    │\n",
       "│ (<span style=\"color: #0087ff; text-decoration-color: #0087ff\">Concatenate</span>)       │                   │            │ dense_5[<span style=\"color: #00af00; text-decoration-color: #00af00\">0</span>][<span style=\"color: #00af00; text-decoration-color: #00af00\">0</span>]     │\n",
       "├─────────────────────┼───────────────────┼────────────┼───────────────────┤\n",
       "│ dense_6 (<span style=\"color: #0087ff; text-decoration-color: #0087ff\">Dense</span>)     │ (<span style=\"color: #00d7ff; text-decoration-color: #00d7ff\">None</span>, <span style=\"color: #00af00; text-decoration-color: #00af00\">64</span>)        │     <span style=\"color: #00af00; text-decoration-color: #00af00\">16,448</span> │ concatenate_1[<span style=\"color: #00af00; text-decoration-color: #00af00\">0</span>]… │\n",
       "├─────────────────────┼───────────────────┼────────────┼───────────────────┤\n",
       "│ dropout_1 (<span style=\"color: #0087ff; text-decoration-color: #0087ff\">Dropout</span>) │ (<span style=\"color: #00d7ff; text-decoration-color: #00d7ff\">None</span>, <span style=\"color: #00af00; text-decoration-color: #00af00\">64</span>)        │          <span style=\"color: #00af00; text-decoration-color: #00af00\">0</span> │ dense_6[<span style=\"color: #00af00; text-decoration-color: #00af00\">0</span>][<span style=\"color: #00af00; text-decoration-color: #00af00\">0</span>]     │\n",
       "├─────────────────────┼───────────────────┼────────────┼───────────────────┤\n",
       "│ dense_7 (<span style=\"color: #0087ff; text-decoration-color: #0087ff\">Dense</span>)     │ (<span style=\"color: #00d7ff; text-decoration-color: #00d7ff\">None</span>, <span style=\"color: #00af00; text-decoration-color: #00af00\">1</span>)         │         <span style=\"color: #00af00; text-decoration-color: #00af00\">65</span> │ dropout_1[<span style=\"color: #00af00; text-decoration-color: #00af00\">0</span>][<span style=\"color: #00af00; text-decoration-color: #00af00\">0</span>]   │\n",
       "└─────────────────────┴───────────────────┴────────────┴───────────────────┘\n",
       "</pre>\n"
      ],
      "text/plain": [
       "┏━━━━━━━━━━━━━━━━━━━━━┳━━━━━━━━━━━━━━━━━━━┳━━━━━━━━━━━━┳━━━━━━━━━━━━━━━━━━━┓\n",
       "┃\u001b[1m \u001b[0m\u001b[1mLayer (type)       \u001b[0m\u001b[1m \u001b[0m┃\u001b[1m \u001b[0m\u001b[1mOutput Shape     \u001b[0m\u001b[1m \u001b[0m┃\u001b[1m \u001b[0m\u001b[1m   Param #\u001b[0m\u001b[1m \u001b[0m┃\u001b[1m \u001b[0m\u001b[1mConnected to     \u001b[0m\u001b[1m \u001b[0m┃\n",
       "┡━━━━━━━━━━━━━━━━━━━━━╇━━━━━━━━━━━━━━━━━━━╇━━━━━━━━━━━━╇━━━━━━━━━━━━━━━━━━━┩\n",
       "│ mri_input           │ (\u001b[38;5;45mNone\u001b[0m, \u001b[38;5;34m4\u001b[0m, \u001b[38;5;34m32\u001b[0m, \u001b[38;5;34m64\u001b[0m, │          \u001b[38;5;34m0\u001b[0m │ -                 │\n",
       "│ (\u001b[38;5;33mInputLayer\u001b[0m)        │ \u001b[38;5;34m64\u001b[0m)               │            │                   │\n",
       "├─────────────────────┼───────────────────┼────────────┼───────────────────┤\n",
       "│ permute (\u001b[38;5;33mPermute\u001b[0m)   │ (\u001b[38;5;45mNone\u001b[0m, \u001b[38;5;34m32\u001b[0m, \u001b[38;5;34m64\u001b[0m,    │          \u001b[38;5;34m0\u001b[0m │ mri_input[\u001b[38;5;34m0\u001b[0m][\u001b[38;5;34m0\u001b[0m]   │\n",
       "│                     │ \u001b[38;5;34m64\u001b[0m, \u001b[38;5;34m4\u001b[0m)            │            │                   │\n",
       "├─────────────────────┼───────────────────┼────────────┼───────────────────┤\n",
       "│ conv3d_2 (\u001b[38;5;33mConv3D\u001b[0m)   │ (\u001b[38;5;45mNone\u001b[0m, \u001b[38;5;34m32\u001b[0m, \u001b[38;5;34m64\u001b[0m,    │      \u001b[38;5;34m3,488\u001b[0m │ permute[\u001b[38;5;34m0\u001b[0m][\u001b[38;5;34m0\u001b[0m]     │\n",
       "│                     │ \u001b[38;5;34m64\u001b[0m, \u001b[38;5;34m32\u001b[0m)           │            │                   │\n",
       "├─────────────────────┼───────────────────┼────────────┼───────────────────┤\n",
       "│ max_pooling3d_2     │ (\u001b[38;5;45mNone\u001b[0m, \u001b[38;5;34m16\u001b[0m, \u001b[38;5;34m32\u001b[0m,    │          \u001b[38;5;34m0\u001b[0m │ conv3d_2[\u001b[38;5;34m0\u001b[0m][\u001b[38;5;34m0\u001b[0m]    │\n",
       "│ (\u001b[38;5;33mMaxPooling3D\u001b[0m)      │ \u001b[38;5;34m32\u001b[0m, \u001b[38;5;34m32\u001b[0m)           │            │                   │\n",
       "├─────────────────────┼───────────────────┼────────────┼───────────────────┤\n",
       "│ conv3d_3 (\u001b[38;5;33mConv3D\u001b[0m)   │ (\u001b[38;5;45mNone\u001b[0m, \u001b[38;5;34m16\u001b[0m, \u001b[38;5;34m32\u001b[0m,    │     \u001b[38;5;34m55,360\u001b[0m │ max_pooling3d_2[\u001b[38;5;34m…\u001b[0m │\n",
       "│                     │ \u001b[38;5;34m32\u001b[0m, \u001b[38;5;34m64\u001b[0m)           │            │                   │\n",
       "├─────────────────────┼───────────────────┼────────────┼───────────────────┤\n",
       "│ max_pooling3d_3     │ (\u001b[38;5;45mNone\u001b[0m, \u001b[38;5;34m8\u001b[0m, \u001b[38;5;34m16\u001b[0m, \u001b[38;5;34m16\u001b[0m, │          \u001b[38;5;34m0\u001b[0m │ conv3d_3[\u001b[38;5;34m0\u001b[0m][\u001b[38;5;34m0\u001b[0m]    │\n",
       "│ (\u001b[38;5;33mMaxPooling3D\u001b[0m)      │ \u001b[38;5;34m64\u001b[0m)               │            │                   │\n",
       "├─────────────────────┼───────────────────┼────────────┼───────────────────┤\n",
       "│ flatten_1 (\u001b[38;5;33mFlatten\u001b[0m) │ (\u001b[38;5;45mNone\u001b[0m, \u001b[38;5;34m131072\u001b[0m)    │          \u001b[38;5;34m0\u001b[0m │ max_pooling3d_3[\u001b[38;5;34m…\u001b[0m │\n",
       "├─────────────────────┼───────────────────┼────────────┼───────────────────┤\n",
       "│ gene_input          │ (\u001b[38;5;45mNone\u001b[0m, \u001b[38;5;34m300\u001b[0m)       │          \u001b[38;5;34m0\u001b[0m │ -                 │\n",
       "│ (\u001b[38;5;33mInputLayer\u001b[0m)        │                   │            │                   │\n",
       "├─────────────────────┼───────────────────┼────────────┼───────────────────┤\n",
       "│ dense_4 (\u001b[38;5;33mDense\u001b[0m)     │ (\u001b[38;5;45mNone\u001b[0m, \u001b[38;5;34m128\u001b[0m)       │ \u001b[38;5;34m16,777,344\u001b[0m │ flatten_1[\u001b[38;5;34m0\u001b[0m][\u001b[38;5;34m0\u001b[0m]   │\n",
       "├─────────────────────┼───────────────────┼────────────┼───────────────────┤\n",
       "│ dense_5 (\u001b[38;5;33mDense\u001b[0m)     │ (\u001b[38;5;45mNone\u001b[0m, \u001b[38;5;34m128\u001b[0m)       │     \u001b[38;5;34m38,528\u001b[0m │ gene_input[\u001b[38;5;34m0\u001b[0m][\u001b[38;5;34m0\u001b[0m]  │\n",
       "├─────────────────────┼───────────────────┼────────────┼───────────────────┤\n",
       "│ concatenate_1       │ (\u001b[38;5;45mNone\u001b[0m, \u001b[38;5;34m256\u001b[0m)       │          \u001b[38;5;34m0\u001b[0m │ dense_4[\u001b[38;5;34m0\u001b[0m][\u001b[38;5;34m0\u001b[0m],    │\n",
       "│ (\u001b[38;5;33mConcatenate\u001b[0m)       │                   │            │ dense_5[\u001b[38;5;34m0\u001b[0m][\u001b[38;5;34m0\u001b[0m]     │\n",
       "├─────────────────────┼───────────────────┼────────────┼───────────────────┤\n",
       "│ dense_6 (\u001b[38;5;33mDense\u001b[0m)     │ (\u001b[38;5;45mNone\u001b[0m, \u001b[38;5;34m64\u001b[0m)        │     \u001b[38;5;34m16,448\u001b[0m │ concatenate_1[\u001b[38;5;34m0\u001b[0m]… │\n",
       "├─────────────────────┼───────────────────┼────────────┼───────────────────┤\n",
       "│ dropout_1 (\u001b[38;5;33mDropout\u001b[0m) │ (\u001b[38;5;45mNone\u001b[0m, \u001b[38;5;34m64\u001b[0m)        │          \u001b[38;5;34m0\u001b[0m │ dense_6[\u001b[38;5;34m0\u001b[0m][\u001b[38;5;34m0\u001b[0m]     │\n",
       "├─────────────────────┼───────────────────┼────────────┼───────────────────┤\n",
       "│ dense_7 (\u001b[38;5;33mDense\u001b[0m)     │ (\u001b[38;5;45mNone\u001b[0m, \u001b[38;5;34m1\u001b[0m)         │         \u001b[38;5;34m65\u001b[0m │ dropout_1[\u001b[38;5;34m0\u001b[0m][\u001b[38;5;34m0\u001b[0m]   │\n",
       "└─────────────────────┴───────────────────┴────────────┴───────────────────┘\n"
      ]
     },
     "metadata": {},
     "output_type": "display_data"
    },
    {
     "data": {
      "text/html": [
       "<pre style=\"white-space:pre;overflow-x:auto;line-height:normal;font-family:Menlo,'DejaVu Sans Mono',consolas,'Courier New',monospace\"><span style=\"font-weight: bold\"> Total params: </span><span style=\"color: #00af00; text-decoration-color: #00af00\">16,891,233</span> (64.43 MB)\n",
       "</pre>\n"
      ],
      "text/plain": [
       "\u001b[1m Total params: \u001b[0m\u001b[38;5;34m16,891,233\u001b[0m (64.43 MB)\n"
      ]
     },
     "metadata": {},
     "output_type": "display_data"
    },
    {
     "data": {
      "text/html": [
       "<pre style=\"white-space:pre;overflow-x:auto;line-height:normal;font-family:Menlo,'DejaVu Sans Mono',consolas,'Courier New',monospace\"><span style=\"font-weight: bold\"> Trainable params: </span><span style=\"color: #00af00; text-decoration-color: #00af00\">16,891,233</span> (64.43 MB)\n",
       "</pre>\n"
      ],
      "text/plain": [
       "\u001b[1m Trainable params: \u001b[0m\u001b[38;5;34m16,891,233\u001b[0m (64.43 MB)\n"
      ]
     },
     "metadata": {},
     "output_type": "display_data"
    },
    {
     "data": {
      "text/html": [
       "<pre style=\"white-space:pre;overflow-x:auto;line-height:normal;font-family:Menlo,'DejaVu Sans Mono',consolas,'Courier New',monospace\"><span style=\"font-weight: bold\"> Non-trainable params: </span><span style=\"color: #00af00; text-decoration-color: #00af00\">0</span> (0.00 B)\n",
       "</pre>\n"
      ],
      "text/plain": [
       "\u001b[1m Non-trainable params: \u001b[0m\u001b[38;5;34m0\u001b[0m (0.00 B)\n"
      ]
     },
     "metadata": {},
     "output_type": "display_data"
    },
    {
     "name": "stdout",
     "output_type": "stream",
     "text": [
      "Epoch 1/25\n",
      "\u001b[1m37/37\u001b[0m \u001b[32m━━━━━━━━━━━━━━━━━━━━\u001b[0m\u001b[37m\u001b[0m \u001b[1m48s\u001b[0m 792ms/step - loss: 924233.1875 - mae: 520.7497 - val_loss: 30224.1211 - val_mae: 98.8847\n",
      "Epoch 2/25\n",
      "\u001b[1m37/37\u001b[0m \u001b[32m━━━━━━━━━━━━━━━━━━━━\u001b[0m\u001b[37m\u001b[0m \u001b[1m28s\u001b[0m 752ms/step - loss: 109899.9766 - mae: 119.5549 - val_loss: 8476.7930 - val_mae: 33.1000\n",
      "Epoch 3/25\n",
      "\u001b[1m37/37\u001b[0m \u001b[32m━━━━━━━━━━━━━━━━━━━━\u001b[0m\u001b[37m\u001b[0m \u001b[1m28s\u001b[0m 748ms/step - loss: 63897.3633 - mae: 82.9914 - val_loss: 1297.0918 - val_mae: 10.4967\n",
      "Epoch 4/25\n",
      "\u001b[1m37/37\u001b[0m \u001b[32m━━━━━━━━━━━━━━━━━━━━\u001b[0m\u001b[37m\u001b[0m \u001b[1m27s\u001b[0m 737ms/step - loss: 25579.3828 - mae: 43.7725 - val_loss: 215.5497 - val_mae: 6.9746\n",
      "Epoch 5/25\n",
      "\u001b[1m37/37\u001b[0m \u001b[32m━━━━━━━━━━━━━━━━━━━━\u001b[0m\u001b[37m\u001b[0m \u001b[1m28s\u001b[0m 741ms/step - loss: 3296.0505 - mae: 28.9047 - val_loss: 886.8385 - val_mae: 18.5298\n",
      "Epoch 6/25\n",
      "\u001b[1m37/37\u001b[0m \u001b[32m━━━━━━━━━━━━━━━━━━━━\u001b[0m\u001b[37m\u001b[0m \u001b[1m28s\u001b[0m 749ms/step - loss: 9119.1699 - mae: 37.5158 - val_loss: 221.1030 - val_mae: 8.7166\n",
      "Epoch 7/25\n",
      "\u001b[1m37/37\u001b[0m \u001b[32m━━━━━━━━━━━━━━━━━━━━\u001b[0m\u001b[37m\u001b[0m \u001b[1m28s\u001b[0m 751ms/step - loss: 662.3194 - mae: 12.4812 - val_loss: 43.7897 - val_mae: 4.5407\n",
      "Epoch 8/25\n",
      "\u001b[1m37/37\u001b[0m \u001b[32m━━━━━━━━━━━━━━━━━━━━\u001b[0m\u001b[37m\u001b[0m \u001b[1m29s\u001b[0m 776ms/step - loss: 580.3055 - mae: 14.8606 - val_loss: 57.2948 - val_mae: 5.1962\n",
      "Epoch 9/25\n",
      "\u001b[1m37/37\u001b[0m \u001b[32m━━━━━━━━━━━━━━━━━━━━\u001b[0m\u001b[37m\u001b[0m \u001b[1m28s\u001b[0m 750ms/step - loss: 2951.3020 - mae: 16.0854 - val_loss: 704.9559 - val_mae: 7.1269\n",
      "Epoch 10/25\n",
      "\u001b[1m37/37\u001b[0m \u001b[32m━━━━━━━━━━━━━━━━━━━━\u001b[0m\u001b[37m\u001b[0m \u001b[1m28s\u001b[0m 744ms/step - loss: 10756.6904 - mae: 24.8923 - val_loss: 150.7467 - val_mae: 4.8986\n",
      "Epoch 11/25\n",
      "\u001b[1m37/37\u001b[0m \u001b[32m━━━━━━━━━━━━━━━━━━━━\u001b[0m\u001b[37m\u001b[0m \u001b[1m28s\u001b[0m 749ms/step - loss: 481.4028 - mae: 9.5673 - val_loss: 145.5792 - val_mae: 4.7074\n",
      "Epoch 12/25\n",
      "\u001b[1m37/37\u001b[0m \u001b[32m━━━━━━━━━━━━━━━━━━━━\u001b[0m\u001b[37m\u001b[0m \u001b[1m28s\u001b[0m 746ms/step - loss: 592.5144 - mae: 8.9888 - val_loss: 208.0785 - val_mae: 4.8584\n",
      "Epoch 13/25\n",
      "\u001b[1m37/37\u001b[0m \u001b[32m━━━━━━━━━━━━━━━━━━━━\u001b[0m\u001b[37m\u001b[0m \u001b[1m28s\u001b[0m 747ms/step - loss: 875.0343 - mae: 10.6356 - val_loss: 217.1169 - val_mae: 4.8970\n",
      "Epoch 14/25\n",
      "\u001b[1m37/37\u001b[0m \u001b[32m━━━━━━━━━━━━━━━━━━━━\u001b[0m\u001b[37m\u001b[0m \u001b[1m28s\u001b[0m 753ms/step - loss: 284.3774 - mae: 7.8157 - val_loss: 172.9110 - val_mae: 4.3604\n",
      "Epoch 15/25\n",
      "\u001b[1m37/37\u001b[0m \u001b[32m━━━━━━━━━━━━━━━━━━━━\u001b[0m\u001b[37m\u001b[0m \u001b[1m28s\u001b[0m 768ms/step - loss: 669.7496 - mae: 10.1656 - val_loss: 223.0441 - val_mae: 4.2506\n",
      "Epoch 16/25\n",
      "\u001b[1m37/37\u001b[0m \u001b[32m━━━━━━━━━━━━━━━━━━━━\u001b[0m\u001b[37m\u001b[0m \u001b[1m28s\u001b[0m 759ms/step - loss: 392.3842 - mae: 8.0422 - val_loss: 127.6721 - val_mae: 3.8797\n",
      "Epoch 17/25\n",
      "\u001b[1m37/37\u001b[0m \u001b[32m━━━━━━━━━━━━━━━━━━━━\u001b[0m\u001b[37m\u001b[0m \u001b[1m28s\u001b[0m 768ms/step - loss: 491.2365 - mae: 9.3891 - val_loss: 135.6135 - val_mae: 3.8611\n",
      "Epoch 18/25\n",
      "\u001b[1m37/37\u001b[0m \u001b[32m━━━━━━━━━━━━━━━━━━━━\u001b[0m\u001b[37m\u001b[0m \u001b[1m29s\u001b[0m 781ms/step - loss: 684.4610 - mae: 8.1102 - val_loss: 97.4488 - val_mae: 3.4859\n",
      "Epoch 19/25\n",
      "\u001b[1m37/37\u001b[0m \u001b[32m━━━━━━━━━━━━━━━━━━━━\u001b[0m\u001b[37m\u001b[0m \u001b[1m28s\u001b[0m 755ms/step - loss: 145.4553 - mae: 6.1052 - val_loss: 58.2314 - val_mae: 3.3699\n",
      "Epoch 20/25\n",
      "\u001b[1m37/37\u001b[0m \u001b[32m━━━━━━━━━━━━━━━━━━━━\u001b[0m\u001b[37m\u001b[0m \u001b[1m29s\u001b[0m 796ms/step - loss: 616.6042 - mae: 7.3807 - val_loss: 58.0860 - val_mae: 3.2478\n",
      "Epoch 21/25\n",
      "\u001b[1m37/37\u001b[0m \u001b[32m━━━━━━━━━━━━━━━━━━━━\u001b[0m\u001b[37m\u001b[0m \u001b[1m28s\u001b[0m 764ms/step - loss: 150.5029 - mae: 5.4689 - val_loss: 45.4680 - val_mae: 3.1485\n",
      "Epoch 22/25\n",
      "\u001b[1m37/37\u001b[0m \u001b[32m━━━━━━━━━━━━━━━━━━━━\u001b[0m\u001b[37m\u001b[0m \u001b[1m29s\u001b[0m 775ms/step - loss: 518.7514 - mae: 7.0941 - val_loss: 84.9379 - val_mae: 3.5621\n",
      "Epoch 23/25\n",
      "\u001b[1m37/37\u001b[0m \u001b[32m━━━━━━━━━━━━━━━━━━━━\u001b[0m\u001b[37m\u001b[0m \u001b[1m28s\u001b[0m 749ms/step - loss: 274.7241 - mae: 6.5896 - val_loss: 94.4208 - val_mae: 3.7458\n",
      "Epoch 24/25\n",
      "\u001b[1m37/37\u001b[0m \u001b[32m━━━━━━━━━━━━━━━━━━━━\u001b[0m\u001b[37m\u001b[0m \u001b[1m28s\u001b[0m 761ms/step - loss: 53.2164 - mae: 3.9723 - val_loss: 65.0811 - val_mae: 3.3957\n",
      "Epoch 25/25\n",
      "\u001b[1m37/37\u001b[0m \u001b[32m━━━━━━━━━━━━━━━━━━━━\u001b[0m\u001b[37m\u001b[0m \u001b[1m28s\u001b[0m 743ms/step - loss: 69.5182 - mae: 4.4951 - val_loss: 68.8765 - val_mae: 3.3887\n",
      "\u001b[1m3/3\u001b[0m \u001b[32m━━━━━━━━━━━━━━━━━━━━\u001b[0m\u001b[37m\u001b[0m \u001b[1m2s\u001b[0m 618ms/step - loss: 58.4199 - mae: 3.3037\n",
      "\n",
      "✅ Evaluation (Loss, MAE): [68.87654113769531, 3.388716697692871]\n"
     ]
    },
    {
     "data": {
      "image/png": "[encoded data removed]",
      "text/plain": [
       "<Figure size 1200x400 with 4 Axes>"
      ]
     },
     "metadata": {},
     "output_type": "display_data"
    }
   ],
   "source": [
    "import tensorflow as tf\n",
    "import os\n",
    "import nibabel as nib\n",
    "import numpy as np\n",
    "import pandas as pd\n",
    "import matplotlib.pyplot as plt\n",
    "from sklearn.model_selection import train_test_split\n",
    "from tensorflow.keras.models import Model\n",
    "from tensorflow.keras.layers import Input, Conv3D, MaxPooling3D, Flatten, Dense, concatenate, Dropout\n",
    "from tensorflow.keras.optimizers import Adam\n",
    "from scipy.ndimage import zoom\n",
    "\n",
    "# --------- Step 1: Load Genetic Data ---------\n",
    "genetic_df = pd.read_csv(r\"C:\\Users\\jasmi\\Downloads\\genetic_data.csv\")\n",
    "genetic_df = genetic_df.iloc[:369]  # Limit to first 369 patients\n",
    "\n",
    "def format_genetic_id(idx):\n",
    "    return f\"brats{int(idx):05d}\"\n",
    "\n",
    "genetic_df[\"id_clean\"] = genetic_df[\"Patient_ID\"].apply(lambda x: format_genetic_id(x.split('_')[-1]))\n",
    "gene_cols = [col for col in genetic_df.columns if col.startswith(\"GF_\")]\n",
    "genetic_map = {\n",
    "    row[\"id_clean\"]: row[gene_cols].values.astype(np.float32)\n",
    "    for _, row in genetic_df.iterrows()\n",
    "}\n",
    "\n",
    "\n",
    "# --------- Step 2: Load BraTS 2021 Data ---------\n",
    "brats_path = r\"C:\\Users\\jasmi\\Downloads\\archive (3)\\training\\MICCAI_BraTS2020_TrainingData\"\n",
    "patient_dirs = [d for d in os.listdir(brats_path) if d.startswith(\"BraTS\")]\n",
    "\n",
    "patient_data = []\n",
    "for d in patient_dirs:\n",
    "    pid = d\n",
    "    id_clean = format_genetic_id(pid.split(\"_\")[-1])\n",
    "    if id_clean not in genetic_map:\n",
    "        continue\n",
    "\n",
    "    # Load segmentation mask\n",
    "    seg_path = os.path.join(brats_path, pid, f\"{pid}_seg.nii\")\n",
    "    seg = nib.load(seg_path).get_fdata()\n",
    "    nonzero = np.nonzero(seg)\n",
    "\n",
    "    if len(nonzero[0]) == 0:\n",
    "        continue\n",
    "\n",
    "    z_min, z_max = int(np.min(nonzero[0])), int(np.max(nonzero[0]))\n",
    "    y_min, y_max = int(np.min(nonzero[1])), int(np.max(nonzero[1]))\n",
    "    x_min, x_max = int(np.min(nonzero[2])), int(np.max(nonzero[2]))\n",
    "    bbox = [x_min, x_max, y_min, y_max, z_min, z_max]\n",
    "\n",
    "    patient_data.append({\n",
    "        \"id\": pid,\n",
    "        \"id_clean\": id_clean,\n",
    "        \"bbox\": bbox,\n",
    "    })\n",
    "\n",
    "# --------- Step 3: Extract ROI ---------\n",
    "def extract_roi(mri_paths, bbox, target_shape=(32, 64, 64)):\n",
    "    modalities = [nib.load(p).get_fdata() for p in mri_paths]\n",
    "    volume = np.stack(modalities, axis=0)\n",
    "    x1, x2, y1, y2, z1, z2 = bbox\n",
    "    roi = volume[:, z1:z2, y1:y2, x1:x2]\n",
    "\n",
    "    zoom_factors = (\n",
    "        1,\n",
    "        target_shape[0] / roi.shape[1],\n",
    "        target_shape[1] / roi.shape[2],\n",
    "        target_shape[2] / roi.shape[3]\n",
    "    )\n",
    "    roi_resized = zoom(roi, zoom=zoom_factors, order=1)\n",
    "    return roi_resized.astype(np.float32)\n",
    "\n",
    "updated_patient_data = []\n",
    "for p in patient_data:\n",
    "    try:\n",
    "        pid = p[\"id\"]\n",
    "        folder = os.path.join(brats_path, pid)\n",
    "        bbox = p[\"bbox\"]\n",
    "        mri_paths = [\n",
    "            os.path.join(folder, f\"{pid}_flair.nii\"),\n",
    "            os.path.join(folder, f\"{pid}_t1.nii\"),\n",
    "            os.path.join(folder, f\"{pid}_t1ce.nii\"),\n",
    "            os.path.join(folder, f\"{pid}_t2.nii\")\n",
    "        ]\n",
    "        roi = extract_roi(mri_paths, bbox)\n",
    "        updated = {\n",
    "            \"id\": pid,\n",
    "            \"id_clean\": p[\"id_clean\"],\n",
    "            \"bbox\": bbox,\n",
    "            \"roi\": roi,\n",
    "            \"genes\": genetic_map[p[\"id_clean\"]],\n",
    "            \"label\": np.random.rand(),  # Placeholder; replace with true label if available\n",
    "        }\n",
    "        updated_patient_data.append(updated)\n",
    "    except Exception as e:\n",
    "        continue\n",
    "\n",
    "# --------- Step 4: Prepare Data ---------\n",
    "X_mri = np.array([p[\"roi\"] for p in updated_patient_data])\n",
    "X_mri = X_mri[..., np.newaxis]\n",
    "X_gene = np.array([p[\"genes\"] for p in updated_patient_data])\n",
    "y = np.array([p[\"label\"] for p in updated_patient_data])\n",
    "\n",
    "X_mri_train, X_mri_val, X_gene_train, X_gene_val, y_train, y_val = train_test_split(\n",
    "    X_mri, X_gene, y, test_size=0.2, random_state=42\n",
    ")\n",
    "\n",
    "\n",
    "# --------- Step 5: Build Model ---------\n",
    "from keras.models import Model\n",
    "from keras.layers import Input, Dense, Flatten, Conv3D, MaxPooling3D, Dropout, concatenate\n",
    "from keras.optimizers import Adam\n",
    "\n",
    "# MRI input (4 modalities stacked as channels)\n",
    "mri_input = Input(shape=(4, 32, 64, 64), name=\"mri_input\")\n",
    "\n",
    "# We permute the dimensions to (32, 64, 64, 4) to treat modalities as channels\n",
    "x = tf.keras.layers.Permute((2, 3, 4, 1))(mri_input)\n",
    "\n",
    "x = Conv3D(32, kernel_size=3, activation='relu', padding='same')(x)\n",
    "x = MaxPooling3D(pool_size=2)(x)\n",
    "x = Conv3D(64, kernel_size=3, activation='relu', padding='same')(x)\n",
    "x = MaxPooling3D(pool_size=2)(x)\n",
    "x = Flatten()(x)\n",
    "x = Dense(128, activation='relu')(x)\n",
    "\n",
    "# Genetic data input\n",
    "gene_input = Input(shape=(300,), name=\"gene_input\")\n",
    "g = Dense(128, activation='relu')(gene_input)\n",
    "\n",
    "# Merge\n",
    "combined = concatenate([x, g])\n",
    "z = Dense(64, activation='relu')(combined)\n",
    "z = Dropout(0.3)(z)\n",
    "z = Dense(1, activation='linear')(z)\n",
    "\n",
    "model = Model(inputs=[mri_input, gene_input], outputs=z)\n",
    "model.compile(optimizer=Adam(1e-4), loss='mse', metrics=['mae'])\n",
    "model.summary()\n",
    "\n",
    "\n",
    "# --------- Step 6: Train ---------\n",
    "history = model.fit(\n",
    "    [X_mri_train, X_gene_train], y_train,\n",
    "    validation_data=([X_mri_val, X_gene_val], y_val),\n",
    "    epochs=25, batch_size=8\n",
    ")\n",
    "\n",
    "# --------- Step 7: Evaluate ---------\n",
    "eval_result = model.evaluate([X_mri_val, X_gene_val], y_val)\n",
    "print(f\"\\n✅ Evaluation (Loss, MAE): {eval_result}\")\n",
    "\n",
    "# --------- Optional: Visualize one sample ---------\n",
    "plt.figure(figsize=(12, 4))\n",
    "for i in range(4):\n",
    "    plt.subplot(1, 4, i + 1)\n",
    "    plt.imshow(X_mri[0][i, :, :, 32], cmap='gray')\n",
    "    plt.title(f\"Modality {i+1}\")\n",
    "plt.tight_layout()\n",
    "plt.show()\n"
   ]
  },
  {
   "cell_type": "code",
   "execution_count": 18,
   "id": "b690266e-d061-4e37-a472-f1a9207a940f",
   "metadata": {},
   "outputs": [
    {
     "name": "stdout",
     "output_type": "stream",
     "text": [
      "\u001b[1m3/3\u001b[0m \u001b[32m━━━━━━━━━━━━━━━━━━━━\u001b[0m\u001b[37m\u001b[0m \u001b[1m2s\u001b[0m 541ms/step\n",
      "✅ Evaluation Results:\n",
      "MAE  = 3.3753\n",
      "RMSE = 8.2992\n",
      "📁 Predictions saved to 'tumor_growth_predictions.csv'\n"
     ]
    }
   ],
   "source": [
    "from sklearn.metrics import mean_squared_error, r2_score\n",
    "import pandas as pd\n",
    "import numpy as np\n",
    "\n",
    "# ---- Evaluate on validation data ----\n",
    "y_pred = model.predict([X_mri_val, X_gene_val])\n",
    "\n",
    "# Metrics\n",
    "mae = np.mean(np.abs(y_val - y_pred))\n",
    "rmse = np.sqrt(mean_squared_error(y_val, y_pred))\n",
    "\n",
    "print(f\"✅ Evaluation Results:\")\n",
    "print(f\"MAE  = {mae:.4f}\")\n",
    "print(f\"RMSE = {rmse:.4f}\")\n",
    "\n",
    "# ---- Save predictions to CSV ----\n",
    "results_df = pd.DataFrame({\n",
    "    \"Actual\": y_val.flatten(),\n",
    "    \"Predicted\": y_pred.flatten()\n",
    "})\n",
    "results_df.to_csv(\"tumor_growth_predictions.csv\", index=False)\n",
    "print(\"📁 Predictions saved to 'tumor_growth_predictions.csv'\")\n"
   ]
  },
  {
   "cell_type": "code",
   "execution_count": 20,
   "id": "348543ae-6a42-4b03-b9c3-3e540893d008",
   "metadata": {},
   "outputs": [
    {
     "name": "stderr",
     "output_type": "stream",
     "text": [
      "WARNING:absl:You are saving your model as an HDF5 file via `model.save()` or `keras.saving.save_model(model)`. This file format is considered legacy. We recommend using instead the native Keras format, e.g. `model.save('my_model.keras')` or `keras.saving.save_model(model, 'my_model.keras')`. \n"
     ]
    },
    {
     "name": "stdout",
     "output_type": "stream",
     "text": [
      "✅ Model saved as 'tumor_growth_prediction_model.h5'\n"
     ]
    }
   ],
   "source": [
    "# Save the model in HDF5 format\n",
    "model.save(\"tumor_growth_prediction_model.h5\")\n",
    "print(\"✅ Model saved as 'tumor_growth_prediction_model.h5'\")\n"
   ]
  },
  {
   "cell_type": "code",
   "execution_count": null,
   "id": "fb7476aa-5ffa-43f1-8488-923a792ae5d1",
   "metadata": {},
   "outputs": [],
   "source": []
  }
 ],
 "metadata": {
  "kernelspec": {
   "display_name": "Python [conda env:base] *",
   "language": "python",
   "name": "conda-base-py"
  },
  "language_info": {
   "codemirror_mode": {
    "name": "ipython",
    "version": 3
   },
   "file_extension": ".py",
   "mimetype": "text/x-python",
   "name": "python",
   "nbconvert_exporter": "python",
   "pygments_lexer": "ipython3",
   "version": "3.11.7"
  }
 },
 "nbformat": 4,
 "nbformat_minor": 5
}
